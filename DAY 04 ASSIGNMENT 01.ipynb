{
 "cells": [
  {
   "cell_type": "markdown",
   "metadata": {},
   "source": [
    "# DAY 04 ASSIGNMENT\n",
    "\n",
    "## ASSIGNMENT 1"
   ]
  },
  {
   "cell_type": "code",
   "execution_count": 1,
   "metadata": {},
   "outputs": [
    {
     "name": "stdout",
     "output_type": "stream",
     "text": [
      "1741725 is an Armstrong number\n"
     ]
    }
   ],
   "source": [
    "num = 1042000\n",
    "while num < 702648265 :\n",
    "    ord = len(str(num))\n",
    "    sum = 0\n",
    "    tem = num\n",
    "    while tem > 0:\n",
    "        digit = tem % 10\n",
    "        sum = sum + (digit ** ord)\n",
    "        tem = tem // 10\n",
    "        #temp //= 10\n",
    "\n",
    "    if num == sum:\n",
    "        print(num,\"is an Armstrong number\")\n",
    "        break\n",
    "        \n",
    "    num = num + 1"
   ]
  }
 ],
 "metadata": {
  "kernelspec": {
   "display_name": "Python 3",
   "language": "python",
   "name": "python3"
  },
  "language_info": {
   "codemirror_mode": {
    "name": "ipython",
    "version": 3
   },
   "file_extension": ".py",
   "mimetype": "text/x-python",
   "name": "python",
   "nbconvert_exporter": "python",
   "pygments_lexer": "ipython3",
   "version": "3.7.6"
  }
 },
 "nbformat": 4,
 "nbformat_minor": 4
}
